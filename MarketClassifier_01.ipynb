{
 "cells": [
  {
   "cell_type": "code",
   "execution_count": 1,
   "metadata": {},
   "outputs": [],
   "source": [
    "import numpy as np\n",
    "from scipy import signal\n",
    "from scipy.stats import linregress\n",
    "import matplotlib.pyplot as plt\n",
    "from scipy.fftpack import fft, ifft\n",
    "import csv\n",
    "import re\n",
    "import pandas_datareader.data as web\n",
    "import pandas as pd\n",
    "from matplotlib import style\n",
    "import matplotlib.pyplot as plt\n",
    "import pandas\n",
    "import datetime as dt\n",
    "from sklearn.linear_model import LinearRegression\n",
    "from scipy.signal import blackman\n",
    "from sklearn.preprocessing import PolynomialFeatures\n",
    "from sklearn.externals import joblib\n",
    "\n",
    "style.use('ggplot')\n",
    "\n",
    "start = dt.datetime(2000,1,1)\n",
    "end = dt.datetime(2017,12,31)"
   ]
  },
  {
   "cell_type": "code",
   "execution_count": 2,
   "metadata": {},
   "outputs": [],
   "source": [
    "def f(a):\n",
    "    if a==0:\n",
    "        return 0\n",
    "    elif a==1:\n",
    "        return 1\n",
    "    else:\n",
    "        return f(a-1)+f(a-2)"
   ]
  },
  {
   "cell_type": "code",
   "execution_count": 3,
   "metadata": {},
   "outputs": [],
   "source": [
    "fibonacci=[f(a) for a in range(2,17)]"
   ]
  },
  {
   "cell_type": "code",
   "execution_count": 4,
   "metadata": {},
   "outputs": [],
   "source": [
    "SYMBOLS=[]\n",
    "with open('companylist.csv', 'r') as csvfile:\n",
    "    reader = csv.reader(csvfile)\n",
    "    for row in reader:\n",
    "        SYMBOLS.append(row[0])\n",
    "#print(SYMBOLS)\n",
    "\n",
    "\n",
    "AlNumSymbols=[]\n",
    "for sym in SYMBOLS:\n",
    "    if (re.match('^[\\w-]+$', sym) is not None):\n",
    "        AlNumSymbols.append(sym)\n",
    "        \n",
    "        \n",
    "del AlNumSymbols[0]"
   ]
  },
  {
   "cell_type": "code",
   "execution_count": 19,
   "metadata": {},
   "outputs": [],
   "source": [
    "class Stock:\n",
    "    def __init__(self, symbol, feed):\n",
    "        \n",
    "        start = dt.datetime(2000,1,1)\n",
    "        end = dt.datetime(2017,12,31)\n",
    "        self.symbol=symbol\n",
    "        self.data=web.DataReader(symbol,feed,start,end)['Adj Close']\n",
    "\n",
    "        # test assignment throws a KeyError if there's nothing there. This means we discard any data that \n",
    "        # doesn't have sampling over the given time period.\n",
    "        test=self.data['2000-01-03']\n",
    "        test=self.data['2017-12-29']\n",
    "        \n",
    "        self.max=np.amax(self.data.values)\n",
    "        self.min=np.amin(self.data.values)\n",
    "        self.first=self.data.values[0]\n",
    "        self.last=self.data.values[-1]\n",
    "        \n",
    "        \n",
    "        \n",
    "        self.mean=np.mean(self.data.values)\n",
    "        \n",
    "        self.slope, self.intercept, r, p, s=linregress(range(len(self.data.values)),self.data.values)\n",
    "        \n",
    "        self.adjusted=(self.data.values-self.slope*np.arange(len(self.data.values))-self.intercept)/self.mean\n",
    "        \n",
    "        self.adjusted_fft_windowed=fft(self.adjusted*blackman(len(self.data.values)))\n",
    "        \n",
    "\n",
    "        \n",
    "        \n",
    "        \n",
    "        \n",
    "        \n",
    "        \n",
    "        \n",
    "        #self.fft_hist=np.histogram(abs(self.adjusted_fft_windowed), fibonacci)[0].tolist()\n",
    "        \n",
    "        \n",
    "        #self.quad=np.polyfit(np.arange(len(self.adjusted)),self.adjusted, 2)[2]\n",
    "        \n",
    "        #self.yearly_gain=[]\n",
    "        \n",
    "        #self.partition=np.array_split(self.data.values,int(len(self.data.values)/17))\n",
    "        #for i in range(18):\n",
    "        #    self.yearly_gain.append(linregress(range(len(self.partition[i])),self.partition[i])[0]  )\n",
    "            \n",
    "        \n",
    "        \n",
    "        \n",
    "        \n",
    "        # self.cwt_hist=[] maybe do later.. maybe other parameters/kernels too...\n",
    "        # Age\n",
    "        # Sentiment\n",
    "        \n",
    "\n",
    "        \n",
    "    def build(self):\n",
    "        self.max=np.amax(self.data.values)\n",
    "        self.min=np.amin(self.data.values)\n",
    "        self.first=self.data.values[0]\n",
    "        self.last=self.data.values[-1]\n",
    "        \n",
    "        \n",
    "        \n",
    "        self.mean=np.mean(self.data.values)\n",
    "        self.slope, self.intercept, r, p, s=linregress(range(len(self.data.values)),self.data.values)\n",
    "        self.adjusted=(self.data.values-self.slope*np.arange(len(self.data.values))-self.intercept)/self.mean\n",
    "        self.fft_hist=np.histogram(abs(fft(self.adjusted*blackman(len(self.data.values)))), fibonacci)[0].tolist()\n",
    "        poly=PolynomialFeatures(degree=2)\n",
    "        #Seems unnecessarily messy, but hey.\n",
    "        self.quad=np.polyfit(np.arange(len(self.adjusted)),self.adjusted, 2)[2]\n",
    "        self.yearly_gain=[]\n",
    "        \n",
    "        self.partition=np.array_split(self.data.values,int(len(self.data.values)/17))\n",
    "        for i in range(18):\n",
    "            self.yearly_gain.append(linregress(range(len(self.partition[i])),self.partition[i])[0]  )\n",
    "            \n",
    "        \n",
    "        \n",
    "        \n",
    "        \n",
    "        # self.cwt_hist=[] maybe do later.. maybe other parameters/kernels too...\n",
    "        # Age\n",
    "        # Sentiment\n",
    "        \n",
    "    def give_stock_data(self):\n",
    "        out=[]\n",
    "        out.extend(self.fft_hist)\n",
    "        out.append(self.max)\n",
    "        out.append(self.min)\n",
    "        out.append(self.first)\n",
    "        out.append(self.last)\n",
    "        return out\n"
   ]
  },
  {
   "cell_type": "code",
   "execution_count": null,
   "metadata": {},
   "outputs": [],
   "source": [
    " class MarketClassifier:\n",
    "    def __init__(self,SymbolList,feed):\n",
    "        self.stockList=[]\n",
    "        for sym in SymbolList[0:4]: \n",
    "            # Get rid of index for full implementation. For Testing, keep it. (Takes a while to download everything)\n",
    "            #Recommend using joblib.load('MarketSave.joblib') instead of downloading. \n",
    "            try:\n",
    "                print(sym)\n",
    "                addSymbol=Stock(sym,feed)\n",
    "                self.stockList.append(addSymbol)\n",
    "            except KeyError:\n",
    "                pass\n",
    "                "
   ]
  },
  {
   "cell_type": "code",
   "execution_count": 18,
   "metadata": {},
   "outputs": [
    {
     "name": "stdout",
     "output_type": "stream",
     "text": [
      "DDD\n",
      "MMM\n",
      "WBAI\n",
      "WUBA\n"
     ]
    }
   ],
   "source": [
    "Market=MarketClassifier(AlNumSymbols,'yahoo')\n",
    "#Avoid Running, Load JobLib MarketTemp"
   ]
  },
  {
   "cell_type": "code",
   "execution_count": 12,
   "metadata": {},
   "outputs": [],
   "source": [
    "testMarket=joblib.load('MarketTemp.joblib')"
   ]
  },
  {
   "cell_type": "code",
   "execution_count": null,
   "metadata": {},
   "outputs": [],
   "source": []
  },
  {
   "cell_type": "code",
   "execution_count": null,
   "metadata": {},
   "outputs": [],
   "source": []
  },
  {
   "cell_type": "code",
   "execution_count": 21,
   "metadata": {},
   "outputs": [],
   "source": []
  },
  {
   "cell_type": "code",
   "execution_count": 22,
   "metadata": {},
   "outputs": [
    {
     "data": {
      "text/plain": [
       "array([2.75      , 2.625     , 2.77083325, ..., 9.02999973, 8.77000046,\n",
       "       8.64000034])"
      ]
     },
     "execution_count": 22,
     "metadata": {},
     "output_type": "execute_result"
    }
   ],
   "source": [
    "BananaSplit.stockList[0].data.values\n",
    "\n"
   ]
  },
  {
   "cell_type": "code",
   "execution_count": null,
   "metadata": {},
   "outputs": [],
   "source": []
  }
 ],
 "metadata": {
  "kernelspec": {
   "display_name": "Python 3",
   "language": "python",
   "name": "python3"
  },
  "language_info": {
   "codemirror_mode": {
    "name": "ipython",
    "version": 3
   },
   "file_extension": ".py",
   "mimetype": "text/x-python",
   "name": "python",
   "nbconvert_exporter": "python",
   "pygments_lexer": "ipython3",
   "version": "3.6.5"
  }
 },
 "nbformat": 4,
 "nbformat_minor": 2
}
